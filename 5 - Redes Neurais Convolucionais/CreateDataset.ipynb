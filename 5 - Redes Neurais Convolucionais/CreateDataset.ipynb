{
  "nbformat": 4,
  "nbformat_minor": 0,
  "metadata": {
    "colab": {
      "name": "CreateDataset.ipynb",
      "provenance": []
    },
    "kernelspec": {
      "name": "python3",
      "display_name": "Python 3"
    },
    "language_info": {
      "name": "python"
    }
  },
  "cells": [
    {
      "cell_type": "code",
      "execution_count": 1,
      "metadata": {
        "id": "WbWji2UXSLbs",
        "outputId": "ea2406dd-cd46-4c7d-88a6-4ad76bad9fec",
        "colab": {
          "base_uri": "https://localhost:8080/"
        }
      },
      "outputs": [
        {
          "output_type": "stream",
          "name": "stdout",
          "text": [
            "Cloning into 'simple_image_download'...\n",
            "remote: Enumerating objects: 42, done.\u001b[K\n",
            "remote: Counting objects: 100% (42/42), done.\u001b[K\n",
            "remote: Compressing objects: 100% (29/29), done.\u001b[K\n",
            "remote: Total 42 (delta 18), reused 33 (delta 10), pack-reused 0\u001b[K\n",
            "Unpacking objects: 100% (42/42), done.\n"
          ]
        }
      ],
      "source": [
        "!git clone https://github.com/RiddlerQ/simple_image_download "
      ]
    },
    {
      "cell_type": "code",
      "source": [
        "!cd simple_image_download \n",
        "!pip install simple_image_download"
      ],
      "metadata": {
        "id": "4aYRBMPfSVKH",
        "outputId": "b775a236-359e-4222-a936-a31edea59229",
        "colab": {
          "base_uri": "https://localhost:8080/"
        }
      },
      "execution_count": 2,
      "outputs": [
        {
          "output_type": "stream",
          "name": "stdout",
          "text": [
            "Collecting simple_image_download\n",
            "  Downloading simple_image_download-0.4-py3-none-any.whl (4.9 kB)\n",
            "Requirement already satisfied: requests in /usr/local/lib/python3.7/dist-packages (from simple_image_download) (2.23.0)\n",
            "  Downloading simple_image_download-0.2-py3-none-any.whl (3.8 kB)\n",
            "Requirement already satisfied: chardet<4,>=3.0.2 in /usr/local/lib/python3.7/dist-packages (from requests->simple_image_download) (3.0.4)\n",
            "Requirement already satisfied: urllib3!=1.25.0,!=1.25.1,<1.26,>=1.21.1 in /usr/local/lib/python3.7/dist-packages (from requests->simple_image_download) (1.24.3)\n",
            "Requirement already satisfied: idna<3,>=2.5 in /usr/local/lib/python3.7/dist-packages (from requests->simple_image_download) (2.10)\n",
            "Requirement already satisfied: certifi>=2017.4.17 in /usr/local/lib/python3.7/dist-packages (from requests->simple_image_download) (2021.10.8)\n",
            "Installing collected packages: simple-image-download\n",
            "Successfully installed simple-image-download-0.2\n"
          ]
        }
      ]
    },
    {
      "cell_type": "code",
      "source": [
        "!cd ..\n",
        "!apt install imagemagick"
      ],
      "metadata": {
        "id": "4WJZUmYYSVN6",
        "outputId": "a782baa3-e386-453d-d734-da69952d2d42",
        "colab": {
          "base_uri": "https://localhost:8080/"
        }
      },
      "execution_count": 3,
      "outputs": [
        {
          "output_type": "stream",
          "name": "stdout",
          "text": [
            "Reading package lists... Done\n",
            "Building dependency tree       \n",
            "Reading state information... Done\n",
            "The following additional packages will be installed:\n",
            "  fonts-droid-fallback fonts-noto-mono ghostscript gsfonts\n",
            "  imagemagick-6-common imagemagick-6.q16 libcupsfilters1 libcupsimage2\n",
            "  libdjvulibre-text libdjvulibre21 libgs9 libgs9-common libijs-0.35\n",
            "  libjbig2dec0 liblqr-1-0 libmagickcore-6.q16-3 libmagickcore-6.q16-3-extra\n",
            "  libmagickwand-6.q16-3 libnetpbm10 libwmf0.2-7 netpbm poppler-data\n",
            "Suggested packages:\n",
            "  fonts-noto ghostscript-x imagemagick-doc autotrace cups-bsd | lpr | lprng\n",
            "  enscript gimp gnuplot grads hp2xx html2ps libwmf-bin mplayer povray radiance\n",
            "  sane-utils texlive-base-bin transfig ufraw-batch inkscape libjxr-tools\n",
            "  libwmf0.2-7-gtk poppler-utils fonts-japanese-mincho | fonts-ipafont-mincho\n",
            "  fonts-japanese-gothic | fonts-ipafont-gothic fonts-arphic-ukai\n",
            "  fonts-arphic-uming fonts-nanum\n",
            "The following NEW packages will be installed:\n",
            "  fonts-droid-fallback fonts-noto-mono ghostscript gsfonts imagemagick\n",
            "  imagemagick-6-common imagemagick-6.q16 libcupsfilters1 libcupsimage2\n",
            "  libdjvulibre-text libdjvulibre21 libgs9 libgs9-common libijs-0.35\n",
            "  libjbig2dec0 liblqr-1-0 libmagickcore-6.q16-3 libmagickcore-6.q16-3-extra\n",
            "  libmagickwand-6.q16-3 libnetpbm10 libwmf0.2-7 netpbm poppler-data\n",
            "0 upgraded, 23 newly installed, 0 to remove and 37 not upgraded.\n",
            "Need to get 18.4 MB of archives.\n",
            "After this operation, 66.3 MB of additional disk space will be used.\n",
            "Get:1 http://archive.ubuntu.com/ubuntu bionic/main amd64 fonts-droid-fallback all 1:6.0.1r16-1.1 [1,805 kB]\n",
            "Get:2 http://archive.ubuntu.com/ubuntu bionic/main amd64 liblqr-1-0 amd64 0.4.2-2.1 [27.7 kB]\n",
            "Get:3 http://archive.ubuntu.com/ubuntu bionic-updates/main amd64 imagemagick-6-common all 8:6.9.7.4+dfsg-16ubuntu6.12 [60.3 kB]\n",
            "Get:4 http://archive.ubuntu.com/ubuntu bionic-updates/main amd64 libmagickcore-6.q16-3 amd64 8:6.9.7.4+dfsg-16ubuntu6.12 [1,621 kB]\n",
            "Get:5 http://archive.ubuntu.com/ubuntu bionic-updates/main amd64 libmagickwand-6.q16-3 amd64 8:6.9.7.4+dfsg-16ubuntu6.12 [292 kB]\n",
            "Get:6 http://archive.ubuntu.com/ubuntu bionic/main amd64 poppler-data all 0.4.8-2 [1,479 kB]\n",
            "Get:7 http://archive.ubuntu.com/ubuntu bionic/main amd64 fonts-noto-mono all 20171026-2 [75.5 kB]\n",
            "Get:8 http://archive.ubuntu.com/ubuntu bionic-updates/main amd64 libcupsimage2 amd64 2.2.7-1ubuntu2.8 [18.6 kB]\n",
            "Get:9 http://archive.ubuntu.com/ubuntu bionic/main amd64 libijs-0.35 amd64 0.35-13 [15.5 kB]\n",
            "Get:10 http://archive.ubuntu.com/ubuntu bionic/main amd64 libjbig2dec0 amd64 0.13-6 [55.9 kB]\n",
            "Ign:11 http://archive.ubuntu.com/ubuntu bionic-updates/main amd64 libgs9-common all 9.26~dfsg+0-0ubuntu0.18.04.14\n",
            "Ign:12 http://archive.ubuntu.com/ubuntu bionic-updates/main amd64 libgs9 amd64 9.26~dfsg+0-0ubuntu0.18.04.14\n",
            "Ign:13 http://archive.ubuntu.com/ubuntu bionic-updates/main amd64 ghostscript amd64 9.26~dfsg+0-0ubuntu0.18.04.14\n",
            "Get:14 http://archive.ubuntu.com/ubuntu bionic/main amd64 gsfonts all 1:8.11+urwcyr1.0.7~pre44-4.4 [3,120 kB]\n",
            "Err:11 http://security.ubuntu.com/ubuntu bionic-updates/main amd64 libgs9-common all 9.26~dfsg+0-0ubuntu0.18.04.14\n",
            "  404  Not Found [IP: 91.189.88.152 80]\n",
            "Get:15 http://archive.ubuntu.com/ubuntu bionic-updates/main amd64 imagemagick-6.q16 amd64 8:6.9.7.4+dfsg-16ubuntu6.12 [423 kB]\n",
            "Err:12 http://security.ubuntu.com/ubuntu bionic-updates/main amd64 libgs9 amd64 9.26~dfsg+0-0ubuntu0.18.04.14\n",
            "  404  Not Found [IP: 91.189.88.152 80]\n",
            "Get:16 http://archive.ubuntu.com/ubuntu bionic-updates/main amd64 imagemagick amd64 8:6.9.7.4+dfsg-16ubuntu6.12 [14.2 kB]\n",
            "Err:13 http://security.ubuntu.com/ubuntu bionic-updates/main amd64 ghostscript amd64 9.26~dfsg+0-0ubuntu0.18.04.14\n",
            "  404  Not Found [IP: 91.189.88.152 80]\n",
            "Get:17 http://archive.ubuntu.com/ubuntu bionic-updates/main amd64 libcupsfilters1 amd64 1.20.2-0ubuntu3.1 [108 kB]\n",
            "Get:18 http://archive.ubuntu.com/ubuntu bionic-updates/main amd64 libdjvulibre-text all 3.5.27.1-8ubuntu0.4 [49.4 kB]\n",
            "Get:19 http://archive.ubuntu.com/ubuntu bionic-updates/main amd64 libdjvulibre21 amd64 3.5.27.1-8ubuntu0.4 [561 kB]\n",
            "Get:20 http://archive.ubuntu.com/ubuntu bionic/main amd64 libwmf0.2-7 amd64 0.2.8.4-12 [150 kB]\n",
            "Get:21 http://archive.ubuntu.com/ubuntu bionic-updates/main amd64 libmagickcore-6.q16-3-extra amd64 8:6.9.7.4+dfsg-16ubuntu6.12 [62.4 kB]\n",
            "Get:22 http://archive.ubuntu.com/ubuntu bionic/main amd64 libnetpbm10 amd64 2:10.0-15.3build1 [58.0 kB]\n",
            "Get:23 http://archive.ubuntu.com/ubuntu bionic/main amd64 netpbm amd64 2:10.0-15.3build1 [1,017 kB]\n",
            "Fetched 11.0 MB in 0s (30.9 MB/s)\n",
            "E: Failed to fetch http://security.ubuntu.com/ubuntu/pool/main/g/ghostscript/libgs9-common_9.26~dfsg+0-0ubuntu0.18.04.14_all.deb  404  Not Found [IP: 91.189.88.152 80]\n",
            "E: Failed to fetch http://security.ubuntu.com/ubuntu/pool/main/g/ghostscript/libgs9_9.26~dfsg+0-0ubuntu0.18.04.14_amd64.deb  404  Not Found [IP: 91.189.88.152 80]\n",
            "E: Failed to fetch http://security.ubuntu.com/ubuntu/pool/main/g/ghostscript/ghostscript_9.26~dfsg+0-0ubuntu0.18.04.14_amd64.deb  404  Not Found [IP: 91.189.88.152 80]\n",
            "E: Unable to fetch some archives, maybe run apt-get update or try with --fix-missing?\n"
          ]
        }
      ]
    },
    {
      "cell_type": "code",
      "source": [
        "from simple_image_download import simple_image_download as simp\n",
        "\n",
        "response = simp.simple_image_download\n",
        "\n",
        "response().download('bicycle', 10)\n",
        "bycicle_urls = response().urls('bicycle', 10)\n",
        "\n"
      ],
      "metadata": {
        "id": "hJxNOGT_SVQy",
        "outputId": "16e64c20-f209-4bf2-ee3c-7e26a24c36a2",
        "colab": {
          "base_uri": "https://localhost:8080/"
        }
      },
      "execution_count": 4,
      "outputs": [
        {
          "output_type": "stream",
          "name": "stdout",
          "text": [
            "HTTPSConnectionPool(host='www.x-treme-bicycle.com', port=443): Max retries exceeded with url: /wp-content/uploads/2021/09/Falcon__SR-Suntour__Yellow.jpg (Caused by SSLError(SSLCertVerificationError(1, '[SSL: CERTIFICATE_VERIFY_FAILED] certificate verify failed: certificate has expired (_ssl.c:1091)')))\n"
          ]
        }
      ]
    },
    {
      "cell_type": "code",
      "source": [
        "response = simp.simple_image_download\n",
        "\n",
        "response().download('plane', 30)\n",
        "\n"
      ],
      "metadata": {
        "id": "FJqeA5pKsovO"
      },
      "execution_count": 20,
      "outputs": []
    },
    {
      "cell_type": "code",
      "source": [
        "response().download('plane', 10)\n",
        "plane_urls = response().urls('plane', 10)\n",
        "\n",
        "response().download('pencil', 10)\n",
        "pencil_urls = response().urls('pencil', 10)"
      ],
      "metadata": {
        "id": "uS6clKOhs5TB"
      },
      "execution_count": null,
      "outputs": []
    },
    {
      "cell_type": "code",
      "source": [
        "!cd simple_images/\n",
        "!mkdir val/\n",
        "!mkdir val/bicycle/\n",
        "\n"
      ],
      "metadata": {
        "id": "2iAlmYIHtFWg",
        "outputId": "96c46d65-9a6d-4d78-d4ee-e34f95a6017c",
        "colab": {
          "base_uri": "https://localhost:8080/"
        }
      },
      "execution_count": 8,
      "outputs": [
        {
          "output_type": "stream",
          "name": "stdout",
          "text": [
            "/bin/bash: line 0: cd: bicycle/: No such file or directory\n",
            "mv: cannot stat '*.jpg': No such file or directory\n"
          ]
        }
      ]
    },
    {
      "cell_type": "code",
      "source": [
        "!cp /content/simple_images/bicycle/*.jpg .\n",
        "!ls\n"
      ],
      "metadata": {
        "id": "iqMaFjMVttnM",
        "outputId": "debc78b1-b7b7-4aff-b5b9-0138e7db9081",
        "colab": {
          "base_uri": "https://localhost:8080/"
        }
      },
      "execution_count": 18,
      "outputs": [
        {
          "output_type": "stream",
          "name": "stdout",
          "text": [
            "bicycle_10.jpg\tbicycle_4.jpg  bicycle_8.jpg\t      simple_images\n",
            "bicycle_1.jpg\tbicycle_5.jpg  bicycle_9.jpg\t      val\n",
            "bicycle_2.jpg\tbicycle_6.jpg  sample_data\n",
            "bicycle_3.jpg\tbicycle_7.jpg  simple_image_download\n"
          ]
        }
      ]
    },
    {
      "cell_type": "code",
      "source": [
        "!shuf -zn5 -e *.jpg | xargs -0 cp -vt val/bicycle/\n",
        "!cd .."
      ],
      "metadata": {
        "id": "vUeGj2KRt-hU",
        "outputId": "bed5dba8-6412-4ecb-8bcc-11e024b759f1",
        "colab": {
          "base_uri": "https://localhost:8080/"
        }
      },
      "execution_count": 19,
      "outputs": [
        {
          "output_type": "stream",
          "name": "stdout",
          "text": [
            "'bicycle_2.jpg' -> 'val/bicycle/bicycle_2.jpg'\n",
            "'bicycle_5.jpg' -> 'val/bicycle/bicycle_5.jpg'\n",
            "'bicycle_6.jpg' -> 'val/bicycle/bicycle_6.jpg'\n",
            "'bicycle_7.jpg' -> 'val/bicycle/bicycle_7.jpg'\n",
            "'bicycle_9.jpg' -> 'val/bicycle/bicycle_9.jpg'\n"
          ]
        }
      ]
    },
    {
      "cell_type": "code",
      "source": [
        "!cd simple_images/\n",
        "!mkdir val/\n",
        "!mkdir val/bicycle/\n",
        "!mkdir val/car/\n",
        "!mkdir val/plane/\n",
        "!mkdir val/pencil/\n",
        "!cd bicycle/\n",
        "!shuf -zn10 -e *.jpg | xargs -0 cp -vt val/bicycle/\n",
        "!cd ..\n",
        "!cd car/\n",
        "!shuf -zn10 -e *.jpg | xargs -0 cp -vt val/car/\n",
        "!cd ..\n",
        "!cd plane/\n",
        "!shuf -zn10 -e *.jpg | xargs -0 cp -vt val/plane/\n",
        "!cd ..\n",
        "!cd pencil/\n",
        "!shuf -zn10 -e *.jpg | xargs -0 cp -vt val/pencil/\n",
        "!cd .."
      ],
      "metadata": {
        "id": "wF9EHGVZSVUB"
      },
      "execution_count": null,
      "outputs": []
    },
    {
      "cell_type": "markdown",
      "source": [
        ""
      ],
      "metadata": {
        "id": "CsHpaqNrtEpM"
      }
    },
    {
      "cell_type": "code",
      "source": [
        ""
      ],
      "metadata": {
        "id": "p-_rGoAbtE56"
      },
      "execution_count": null,
      "outputs": []
    }
  ]
}